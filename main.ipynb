{
 "metadata": {
  "language_info": {
   "codemirror_mode": {
    "name": "ipython",
    "version": 3
   },
   "file_extension": ".py",
   "mimetype": "text/x-python",
   "name": "python",
   "nbconvert_exporter": "python",
   "pygments_lexer": "ipython3",
   "version": "3.6.12-final"
  },
  "orig_nbformat": 2,
  "kernelspec": {
   "name": "python3",
   "display_name": "Python 3.6.12 64-bit ('PythonAdv': conda)",
   "metadata": {
    "interpreter": {
     "hash": "c602826b316e5bd5424b640ef06f9aefb806560c67f60a71db82954af2bf9a8d"
    }
   }
  }
 },
 "nbformat": 4,
 "nbformat_minor": 2,
 "cells": [
  {
   "cell_type": "code",
   "execution_count": 1,
   "metadata": {},
   "outputs": [],
   "source": [
    "import pandas as pd\n",
    "from config import sql_id as ID\n",
    "from sqlalchemy import create_engine"
   ]
  },
  {
   "cell_type": "code",
   "execution_count": 2,
   "metadata": {},
   "outputs": [
    {
     "output_type": "execute_result",
     "data": {
      "text/plain": [
       "<sqlalchemy.engine.base.Connection at 0x1c01a77ea58>"
      ]
     },
     "metadata": {},
     "execution_count": 2
    }
   ],
   "source": [
    "port = '5432'\n",
    "db = 'Project_Lotto'\n",
    "pgdb = f'postgresql://{ID}@thelottoproject.postgres.database.azure.com:{port}/{db}?sslmode=require'\n",
    "sql_engine = create_engine(pgdb)\n",
    "sql_engine.connect()"
   ]
  },
  {
   "cell_type": "code",
   "execution_count": 3,
   "metadata": {},
   "outputs": [
    {
     "output_type": "execute_result",
     "data": {
      "text/plain": [
       "   Draw number   Draw date  Winning Number 1  Winning Number 2  \\\n",
       "0         4024  2020-11-09                20                 4   \n",
       "1         4022  2020-11-02                45                42   \n",
       "2         4020  2020-10-26                 6                29   \n",
       "3         4018  2020-10-19                39                25   \n",
       "4         4016  2020-10-12                33                 9   \n",
       "5         4014  2020-10-05                37                 7   \n",
       "6         4012  2020-09-28                 3                17   \n",
       "7         4010  2020-09-21                22                35   \n",
       "8         4008  2020-09-14                31                16   \n",
       "9         4006  2020-09-07                 9                16   \n",
       "\n",
       "   Winning Number 3  Winning Number 4  Winning Number 5  Winning Number 6  \\\n",
       "0                 7                45                11                37   \n",
       "1                21                40                32                44   \n",
       "2                24                 2                43                14   \n",
       "3                45                16                 1                13   \n",
       "4                 5                 2                28                10   \n",
       "5                39                 5                28                22   \n",
       "6                11                24                38                16   \n",
       "7                18                 1                 4                 8   \n",
       "8                23                43                 1                24   \n",
       "9                23                44                36                 1   \n",
       "\n",
       "   Supplementary Number 1  Supplementary Number 2  ...  Division 4 prize pool  \\\n",
       "0                      41                      28  ...              510690.00   \n",
       "1                      36                      24  ...              514664.80   \n",
       "2                      10                      17  ...              287284.80   \n",
       "3                      10                      30  ...              315275.00   \n",
       "4                      30                      40  ...              298013.10   \n",
       "5                      24                      14  ...              280780.50   \n",
       "6                      31                      26  ...              313458.75   \n",
       "7                      14                      38  ...              342228.80   \n",
       "8                      18                      36  ...              302952.15   \n",
       "9                      39                      25  ...              753232.00   \n",
       "\n",
       "   Division 4 amount  Division 5 winners  Division 5 winners in WA  \\\n",
       "0              34.80               32630                      3892   \n",
       "1              34.85               29189                      3050   \n",
       "2              26.40               29740                      3494   \n",
       "3              25.00               30672                      5415   \n",
       "4              19.95               31107                      3337   \n",
       "5              25.50               28282                      3479   \n",
       "6              22.35               32847                      3088   \n",
       "7              21.40               36645                      3872   \n",
       "8              29.45               26503                      3215   \n",
       "9              52.60               34870                      3597   \n",
       "\n",
       "   Division 5 prize pool  Division 5 amount  Division 6 winners  \\\n",
       "0              726017.50              22.25             58428.0   \n",
       "1              731184.45              25.05             59218.0   \n",
       "2              408925.00              13.75             67358.0   \n",
       "3              449344.80              14.65             74922.0   \n",
       "4              423055.20              13.60             61647.0   \n",
       "5              398776.20              14.10             60658.0   \n",
       "6              445076.85              13.55             64304.0   \n",
       "7              487378.50              13.30             62896.0   \n",
       "8              430673.75              16.25             61271.0   \n",
       "9             1070509.00              30.70             68248.0   \n",
       "\n",
       "   Division 6 winners in WA  Division 6 prize pool  Division 6 amount  \n",
       "0                    6950.0             1226988.00              21.00  \n",
       "1                    6509.0             1237656.20              20.90  \n",
       "2                    7934.0              690419.50              10.25  \n",
       "3                    8711.0              760458.30              10.15  \n",
       "4                    6511.0              718187.55              11.65  \n",
       "5                    7657.0              676336.70              11.15  \n",
       "6                    5792.0              752356.80              11.70  \n",
       "7                    7125.0              823937.60              13.10  \n",
       "8                    6993.0              729124.90              11.90  \n",
       "9                    7437.0             1808572.00              26.50  \n",
       "\n",
       "[10 rows x 34 columns]"
      ],
      "text/html": "<div>\n<style scoped>\n    .dataframe tbody tr th:only-of-type {\n        vertical-align: middle;\n    }\n\n    .dataframe tbody tr th {\n        vertical-align: top;\n    }\n\n    .dataframe thead th {\n        text-align: right;\n    }\n</style>\n<table border=\"1\" class=\"dataframe\">\n  <thead>\n    <tr style=\"text-align: right;\">\n      <th></th>\n      <th>Draw number</th>\n      <th>Draw date</th>\n      <th>Winning Number 1</th>\n      <th>Winning Number 2</th>\n      <th>Winning Number 3</th>\n      <th>Winning Number 4</th>\n      <th>Winning Number 5</th>\n      <th>Winning Number 6</th>\n      <th>Supplementary Number 1</th>\n      <th>Supplementary Number 2</th>\n      <th>...</th>\n      <th>Division 4 prize pool</th>\n      <th>Division 4 amount</th>\n      <th>Division 5 winners</th>\n      <th>Division 5 winners in WA</th>\n      <th>Division 5 prize pool</th>\n      <th>Division 5 amount</th>\n      <th>Division 6 winners</th>\n      <th>Division 6 winners in WA</th>\n      <th>Division 6 prize pool</th>\n      <th>Division 6 amount</th>\n    </tr>\n  </thead>\n  <tbody>\n    <tr>\n      <th>0</th>\n      <td>4024</td>\n      <td>2020-11-09</td>\n      <td>20</td>\n      <td>4</td>\n      <td>7</td>\n      <td>45</td>\n      <td>11</td>\n      <td>37</td>\n      <td>41</td>\n      <td>28</td>\n      <td>...</td>\n      <td>510690.00</td>\n      <td>34.80</td>\n      <td>32630</td>\n      <td>3892</td>\n      <td>726017.50</td>\n      <td>22.25</td>\n      <td>58428.0</td>\n      <td>6950.0</td>\n      <td>1226988.00</td>\n      <td>21.00</td>\n    </tr>\n    <tr>\n      <th>1</th>\n      <td>4022</td>\n      <td>2020-11-02</td>\n      <td>45</td>\n      <td>42</td>\n      <td>21</td>\n      <td>40</td>\n      <td>32</td>\n      <td>44</td>\n      <td>36</td>\n      <td>24</td>\n      <td>...</td>\n      <td>514664.80</td>\n      <td>34.85</td>\n      <td>29189</td>\n      <td>3050</td>\n      <td>731184.45</td>\n      <td>25.05</td>\n      <td>59218.0</td>\n      <td>6509.0</td>\n      <td>1237656.20</td>\n      <td>20.90</td>\n    </tr>\n    <tr>\n      <th>2</th>\n      <td>4020</td>\n      <td>2020-10-26</td>\n      <td>6</td>\n      <td>29</td>\n      <td>24</td>\n      <td>2</td>\n      <td>43</td>\n      <td>14</td>\n      <td>10</td>\n      <td>17</td>\n      <td>...</td>\n      <td>287284.80</td>\n      <td>26.40</td>\n      <td>29740</td>\n      <td>3494</td>\n      <td>408925.00</td>\n      <td>13.75</td>\n      <td>67358.0</td>\n      <td>7934.0</td>\n      <td>690419.50</td>\n      <td>10.25</td>\n    </tr>\n    <tr>\n      <th>3</th>\n      <td>4018</td>\n      <td>2020-10-19</td>\n      <td>39</td>\n      <td>25</td>\n      <td>45</td>\n      <td>16</td>\n      <td>1</td>\n      <td>13</td>\n      <td>10</td>\n      <td>30</td>\n      <td>...</td>\n      <td>315275.00</td>\n      <td>25.00</td>\n      <td>30672</td>\n      <td>5415</td>\n      <td>449344.80</td>\n      <td>14.65</td>\n      <td>74922.0</td>\n      <td>8711.0</td>\n      <td>760458.30</td>\n      <td>10.15</td>\n    </tr>\n    <tr>\n      <th>4</th>\n      <td>4016</td>\n      <td>2020-10-12</td>\n      <td>33</td>\n      <td>9</td>\n      <td>5</td>\n      <td>2</td>\n      <td>28</td>\n      <td>10</td>\n      <td>30</td>\n      <td>40</td>\n      <td>...</td>\n      <td>298013.10</td>\n      <td>19.95</td>\n      <td>31107</td>\n      <td>3337</td>\n      <td>423055.20</td>\n      <td>13.60</td>\n      <td>61647.0</td>\n      <td>6511.0</td>\n      <td>718187.55</td>\n      <td>11.65</td>\n    </tr>\n    <tr>\n      <th>5</th>\n      <td>4014</td>\n      <td>2020-10-05</td>\n      <td>37</td>\n      <td>7</td>\n      <td>39</td>\n      <td>5</td>\n      <td>28</td>\n      <td>22</td>\n      <td>24</td>\n      <td>14</td>\n      <td>...</td>\n      <td>280780.50</td>\n      <td>25.50</td>\n      <td>28282</td>\n      <td>3479</td>\n      <td>398776.20</td>\n      <td>14.10</td>\n      <td>60658.0</td>\n      <td>7657.0</td>\n      <td>676336.70</td>\n      <td>11.15</td>\n    </tr>\n    <tr>\n      <th>6</th>\n      <td>4012</td>\n      <td>2020-09-28</td>\n      <td>3</td>\n      <td>17</td>\n      <td>11</td>\n      <td>24</td>\n      <td>38</td>\n      <td>16</td>\n      <td>31</td>\n      <td>26</td>\n      <td>...</td>\n      <td>313458.75</td>\n      <td>22.35</td>\n      <td>32847</td>\n      <td>3088</td>\n      <td>445076.85</td>\n      <td>13.55</td>\n      <td>64304.0</td>\n      <td>5792.0</td>\n      <td>752356.80</td>\n      <td>11.70</td>\n    </tr>\n    <tr>\n      <th>7</th>\n      <td>4010</td>\n      <td>2020-09-21</td>\n      <td>22</td>\n      <td>35</td>\n      <td>18</td>\n      <td>1</td>\n      <td>4</td>\n      <td>8</td>\n      <td>14</td>\n      <td>38</td>\n      <td>...</td>\n      <td>342228.80</td>\n      <td>21.40</td>\n      <td>36645</td>\n      <td>3872</td>\n      <td>487378.50</td>\n      <td>13.30</td>\n      <td>62896.0</td>\n      <td>7125.0</td>\n      <td>823937.60</td>\n      <td>13.10</td>\n    </tr>\n    <tr>\n      <th>8</th>\n      <td>4008</td>\n      <td>2020-09-14</td>\n      <td>31</td>\n      <td>16</td>\n      <td>23</td>\n      <td>43</td>\n      <td>1</td>\n      <td>24</td>\n      <td>18</td>\n      <td>36</td>\n      <td>...</td>\n      <td>302952.15</td>\n      <td>29.45</td>\n      <td>26503</td>\n      <td>3215</td>\n      <td>430673.75</td>\n      <td>16.25</td>\n      <td>61271.0</td>\n      <td>6993.0</td>\n      <td>729124.90</td>\n      <td>11.90</td>\n    </tr>\n    <tr>\n      <th>9</th>\n      <td>4006</td>\n      <td>2020-09-07</td>\n      <td>9</td>\n      <td>16</td>\n      <td>23</td>\n      <td>44</td>\n      <td>36</td>\n      <td>1</td>\n      <td>39</td>\n      <td>25</td>\n      <td>...</td>\n      <td>753232.00</td>\n      <td>52.60</td>\n      <td>34870</td>\n      <td>3597</td>\n      <td>1070509.00</td>\n      <td>30.70</td>\n      <td>68248.0</td>\n      <td>7437.0</td>\n      <td>1808572.00</td>\n      <td>26.50</td>\n    </tr>\n  </tbody>\n</table>\n<p>10 rows × 34 columns</p>\n</div>"
     },
     "metadata": {},
     "execution_count": 3
    }
   ],
   "source": [
    "sql_query = 'SELECT * FROM MondayLotto;'\n",
    "lotto = pd.read_sql_query(sql_query, sql_engine)\n",
    "lotto.head(10)"
   ]
  },
  {
   "cell_type": "code",
   "execution_count": 4,
   "metadata": {},
   "outputs": [
    {
     "output_type": "execute_result",
     "data": {
      "text/plain": [
       "     Draw number   Draw date  Winning Number 1  Winning Number 2  \\\n",
       "0           4024  2020-11-09                20                 4   \n",
       "1           4022  2020-11-02                45                42   \n",
       "2           4020  2020-10-26                 6                29   \n",
       "3           4018  2020-10-19                39                25   \n",
       "4           4016  2020-10-12                33                 9   \n",
       "..           ...         ...               ...               ...   \n",
       "754         2516  2006-05-29                36                39   \n",
       "755         2514  2006-05-22                17                36   \n",
       "756         2512  2006-05-15                 1                 8   \n",
       "757         2510  2006-05-08                30                26   \n",
       "758         2508  2006-05-01                31                40   \n",
       "\n",
       "     Winning Number 3  Winning Number 4  Winning Number 5  Winning Number 6  \\\n",
       "0                   7                45                11                37   \n",
       "1                  21                40                32                44   \n",
       "2                  24                 2                43                14   \n",
       "3                  45                16                 1                13   \n",
       "4                   5                 2                28                10   \n",
       "..                ...               ...               ...               ...   \n",
       "754                35                45                 5                 2   \n",
       "755                14                34                 3                 5   \n",
       "756                32                24                22                 6   \n",
       "757                17                36                27                 7   \n",
       "758                35                11                33                27   \n",
       "\n",
       "     Supplementary Number 1  Supplementary Number 2  \n",
       "0                        41                      28  \n",
       "1                        36                      24  \n",
       "2                        10                      17  \n",
       "3                        10                      30  \n",
       "4                        30                      40  \n",
       "..                      ...                     ...  \n",
       "754                       9                      30  \n",
       "755                      28                      20  \n",
       "756                      17                      31  \n",
       "757                      14                      38  \n",
       "758                       7                      14  \n",
       "\n",
       "[759 rows x 10 columns]"
      ],
      "text/html": "<div>\n<style scoped>\n    .dataframe tbody tr th:only-of-type {\n        vertical-align: middle;\n    }\n\n    .dataframe tbody tr th {\n        vertical-align: top;\n    }\n\n    .dataframe thead th {\n        text-align: right;\n    }\n</style>\n<table border=\"1\" class=\"dataframe\">\n  <thead>\n    <tr style=\"text-align: right;\">\n      <th></th>\n      <th>Draw number</th>\n      <th>Draw date</th>\n      <th>Winning Number 1</th>\n      <th>Winning Number 2</th>\n      <th>Winning Number 3</th>\n      <th>Winning Number 4</th>\n      <th>Winning Number 5</th>\n      <th>Winning Number 6</th>\n      <th>Supplementary Number 1</th>\n      <th>Supplementary Number 2</th>\n    </tr>\n  </thead>\n  <tbody>\n    <tr>\n      <th>0</th>\n      <td>4024</td>\n      <td>2020-11-09</td>\n      <td>20</td>\n      <td>4</td>\n      <td>7</td>\n      <td>45</td>\n      <td>11</td>\n      <td>37</td>\n      <td>41</td>\n      <td>28</td>\n    </tr>\n    <tr>\n      <th>1</th>\n      <td>4022</td>\n      <td>2020-11-02</td>\n      <td>45</td>\n      <td>42</td>\n      <td>21</td>\n      <td>40</td>\n      <td>32</td>\n      <td>44</td>\n      <td>36</td>\n      <td>24</td>\n    </tr>\n    <tr>\n      <th>2</th>\n      <td>4020</td>\n      <td>2020-10-26</td>\n      <td>6</td>\n      <td>29</td>\n      <td>24</td>\n      <td>2</td>\n      <td>43</td>\n      <td>14</td>\n      <td>10</td>\n      <td>17</td>\n    </tr>\n    <tr>\n      <th>3</th>\n      <td>4018</td>\n      <td>2020-10-19</td>\n      <td>39</td>\n      <td>25</td>\n      <td>45</td>\n      <td>16</td>\n      <td>1</td>\n      <td>13</td>\n      <td>10</td>\n      <td>30</td>\n    </tr>\n    <tr>\n      <th>4</th>\n      <td>4016</td>\n      <td>2020-10-12</td>\n      <td>33</td>\n      <td>9</td>\n      <td>5</td>\n      <td>2</td>\n      <td>28</td>\n      <td>10</td>\n      <td>30</td>\n      <td>40</td>\n    </tr>\n    <tr>\n      <th>...</th>\n      <td>...</td>\n      <td>...</td>\n      <td>...</td>\n      <td>...</td>\n      <td>...</td>\n      <td>...</td>\n      <td>...</td>\n      <td>...</td>\n      <td>...</td>\n      <td>...</td>\n    </tr>\n    <tr>\n      <th>754</th>\n      <td>2516</td>\n      <td>2006-05-29</td>\n      <td>36</td>\n      <td>39</td>\n      <td>35</td>\n      <td>45</td>\n      <td>5</td>\n      <td>2</td>\n      <td>9</td>\n      <td>30</td>\n    </tr>\n    <tr>\n      <th>755</th>\n      <td>2514</td>\n      <td>2006-05-22</td>\n      <td>17</td>\n      <td>36</td>\n      <td>14</td>\n      <td>34</td>\n      <td>3</td>\n      <td>5</td>\n      <td>28</td>\n      <td>20</td>\n    </tr>\n    <tr>\n      <th>756</th>\n      <td>2512</td>\n      <td>2006-05-15</td>\n      <td>1</td>\n      <td>8</td>\n      <td>32</td>\n      <td>24</td>\n      <td>22</td>\n      <td>6</td>\n      <td>17</td>\n      <td>31</td>\n    </tr>\n    <tr>\n      <th>757</th>\n      <td>2510</td>\n      <td>2006-05-08</td>\n      <td>30</td>\n      <td>26</td>\n      <td>17</td>\n      <td>36</td>\n      <td>27</td>\n      <td>7</td>\n      <td>14</td>\n      <td>38</td>\n    </tr>\n    <tr>\n      <th>758</th>\n      <td>2508</td>\n      <td>2006-05-01</td>\n      <td>31</td>\n      <td>40</td>\n      <td>35</td>\n      <td>11</td>\n      <td>33</td>\n      <td>27</td>\n      <td>7</td>\n      <td>14</td>\n    </tr>\n  </tbody>\n</table>\n<p>759 rows × 10 columns</p>\n</div>"
     },
     "metadata": {},
     "execution_count": 4
    }
   ],
   "source": [
    "x = lotto.iloc[:,0:10]\n",
    "x"
   ]
  },
  {
   "cell_type": "code",
   "execution_count": 5,
   "metadata": {},
   "outputs": [
    {
     "output_type": "execute_result",
     "data": {
      "text/plain": [
       "     Draw number  Winning Number 1  Winning Number 2  Winning Number 3  \\\n",
       "0           4024                20                 4                 7   \n",
       "1           4022                45                42                21   \n",
       "2           4020                 6                29                24   \n",
       "3           4018                39                25                45   \n",
       "4           4016                33                 9                 5   \n",
       "..           ...               ...               ...               ...   \n",
       "754         2516                36                39                35   \n",
       "755         2514                17                36                14   \n",
       "756         2512                 1                 8                32   \n",
       "757         2510                30                26                17   \n",
       "758         2508                31                40                35   \n",
       "\n",
       "     Winning Number 4  Winning Number 5  Winning Number 6  \\\n",
       "0                  45                11                37   \n",
       "1                  40                32                44   \n",
       "2                   2                43                14   \n",
       "3                  16                 1                13   \n",
       "4                   2                28                10   \n",
       "..                ...               ...               ...   \n",
       "754                45                 5                 2   \n",
       "755                34                 3                 5   \n",
       "756                24                22                 6   \n",
       "757                36                27                 7   \n",
       "758                11                33                27   \n",
       "\n",
       "     Supplementary Number 1  Supplementary Number 2  Draw year  Draw month  \\\n",
       "0                        41                      28       2020          11   \n",
       "1                        36                      24       2020          11   \n",
       "2                        10                      17       2020          10   \n",
       "3                        10                      30       2020          10   \n",
       "4                        30                      40       2020          10   \n",
       "..                      ...                     ...        ...         ...   \n",
       "754                       9                      30       2006           5   \n",
       "755                      28                      20       2006           5   \n",
       "756                      17                      31       2006           5   \n",
       "757                      14                      38       2006           5   \n",
       "758                       7                      14       2006           5   \n",
       "\n",
       "     Draw day  \n",
       "0           9  \n",
       "1           2  \n",
       "2          26  \n",
       "3          19  \n",
       "4          12  \n",
       "..        ...  \n",
       "754        29  \n",
       "755        22  \n",
       "756        15  \n",
       "757         8  \n",
       "758         1  \n",
       "\n",
       "[759 rows x 12 columns]"
      ],
      "text/html": "<div>\n<style scoped>\n    .dataframe tbody tr th:only-of-type {\n        vertical-align: middle;\n    }\n\n    .dataframe tbody tr th {\n        vertical-align: top;\n    }\n\n    .dataframe thead th {\n        text-align: right;\n    }\n</style>\n<table border=\"1\" class=\"dataframe\">\n  <thead>\n    <tr style=\"text-align: right;\">\n      <th></th>\n      <th>Draw number</th>\n      <th>Winning Number 1</th>\n      <th>Winning Number 2</th>\n      <th>Winning Number 3</th>\n      <th>Winning Number 4</th>\n      <th>Winning Number 5</th>\n      <th>Winning Number 6</th>\n      <th>Supplementary Number 1</th>\n      <th>Supplementary Number 2</th>\n      <th>Draw year</th>\n      <th>Draw month</th>\n      <th>Draw day</th>\n    </tr>\n  </thead>\n  <tbody>\n    <tr>\n      <th>0</th>\n      <td>4024</td>\n      <td>20</td>\n      <td>4</td>\n      <td>7</td>\n      <td>45</td>\n      <td>11</td>\n      <td>37</td>\n      <td>41</td>\n      <td>28</td>\n      <td>2020</td>\n      <td>11</td>\n      <td>9</td>\n    </tr>\n    <tr>\n      <th>1</th>\n      <td>4022</td>\n      <td>45</td>\n      <td>42</td>\n      <td>21</td>\n      <td>40</td>\n      <td>32</td>\n      <td>44</td>\n      <td>36</td>\n      <td>24</td>\n      <td>2020</td>\n      <td>11</td>\n      <td>2</td>\n    </tr>\n    <tr>\n      <th>2</th>\n      <td>4020</td>\n      <td>6</td>\n      <td>29</td>\n      <td>24</td>\n      <td>2</td>\n      <td>43</td>\n      <td>14</td>\n      <td>10</td>\n      <td>17</td>\n      <td>2020</td>\n      <td>10</td>\n      <td>26</td>\n    </tr>\n    <tr>\n      <th>3</th>\n      <td>4018</td>\n      <td>39</td>\n      <td>25</td>\n      <td>45</td>\n      <td>16</td>\n      <td>1</td>\n      <td>13</td>\n      <td>10</td>\n      <td>30</td>\n      <td>2020</td>\n      <td>10</td>\n      <td>19</td>\n    </tr>\n    <tr>\n      <th>4</th>\n      <td>4016</td>\n      <td>33</td>\n      <td>9</td>\n      <td>5</td>\n      <td>2</td>\n      <td>28</td>\n      <td>10</td>\n      <td>30</td>\n      <td>40</td>\n      <td>2020</td>\n      <td>10</td>\n      <td>12</td>\n    </tr>\n    <tr>\n      <th>...</th>\n      <td>...</td>\n      <td>...</td>\n      <td>...</td>\n      <td>...</td>\n      <td>...</td>\n      <td>...</td>\n      <td>...</td>\n      <td>...</td>\n      <td>...</td>\n      <td>...</td>\n      <td>...</td>\n      <td>...</td>\n    </tr>\n    <tr>\n      <th>754</th>\n      <td>2516</td>\n      <td>36</td>\n      <td>39</td>\n      <td>35</td>\n      <td>45</td>\n      <td>5</td>\n      <td>2</td>\n      <td>9</td>\n      <td>30</td>\n      <td>2006</td>\n      <td>5</td>\n      <td>29</td>\n    </tr>\n    <tr>\n      <th>755</th>\n      <td>2514</td>\n      <td>17</td>\n      <td>36</td>\n      <td>14</td>\n      <td>34</td>\n      <td>3</td>\n      <td>5</td>\n      <td>28</td>\n      <td>20</td>\n      <td>2006</td>\n      <td>5</td>\n      <td>22</td>\n    </tr>\n    <tr>\n      <th>756</th>\n      <td>2512</td>\n      <td>1</td>\n      <td>8</td>\n      <td>32</td>\n      <td>24</td>\n      <td>22</td>\n      <td>6</td>\n      <td>17</td>\n      <td>31</td>\n      <td>2006</td>\n      <td>5</td>\n      <td>15</td>\n    </tr>\n    <tr>\n      <th>757</th>\n      <td>2510</td>\n      <td>30</td>\n      <td>26</td>\n      <td>17</td>\n      <td>36</td>\n      <td>27</td>\n      <td>7</td>\n      <td>14</td>\n      <td>38</td>\n      <td>2006</td>\n      <td>5</td>\n      <td>8</td>\n    </tr>\n    <tr>\n      <th>758</th>\n      <td>2508</td>\n      <td>31</td>\n      <td>40</td>\n      <td>35</td>\n      <td>11</td>\n      <td>33</td>\n      <td>27</td>\n      <td>7</td>\n      <td>14</td>\n      <td>2006</td>\n      <td>5</td>\n      <td>1</td>\n    </tr>\n  </tbody>\n</table>\n<p>759 rows × 12 columns</p>\n</div>"
     },
     "metadata": {},
     "execution_count": 5
    }
   ],
   "source": [
    "x['Draw year'] = pd.to_datetime(x['Draw date']).dt.year\n",
    "x['Draw month'] = pd.to_datetime(x['Draw date']).dt.month\n",
    "x['Draw day'] = pd.to_datetime(x['Draw date']).dt.day\n",
    "x.drop('Draw date', axis=1, inplace=True)\n",
    "x"
   ]
  },
  {
   "cell_type": "code",
   "execution_count": 6,
   "metadata": {},
   "outputs": [
    {
     "output_type": "execute_result",
     "data": {
      "text/plain": [
       "     Draw number  Draw year  Draw month  Draw day  Winning Number 1  \\\n",
       "0           4024       2020          11         9                20   \n",
       "1           4022       2020          11         2                45   \n",
       "2           4020       2020          10        26                 6   \n",
       "3           4018       2020          10        19                39   \n",
       "4           4016       2020          10        12                33   \n",
       "..           ...        ...         ...       ...               ...   \n",
       "754         2516       2006           5        29                36   \n",
       "755         2514       2006           5        22                17   \n",
       "756         2512       2006           5        15                 1   \n",
       "757         2510       2006           5         8                30   \n",
       "758         2508       2006           5         1                31   \n",
       "\n",
       "     Winning Number 2  Winning Number 3  Winning Number 4  Winning Number 5  \\\n",
       "0                   4                 7                45                11   \n",
       "1                  42                21                40                32   \n",
       "2                  29                24                 2                43   \n",
       "3                  25                45                16                 1   \n",
       "4                   9                 5                 2                28   \n",
       "..                ...               ...               ...               ...   \n",
       "754                39                35                45                 5   \n",
       "755                36                14                34                 3   \n",
       "756                 8                32                24                22   \n",
       "757                26                17                36                27   \n",
       "758                40                35                11                33   \n",
       "\n",
       "     Winning Number 6  Supplementary Number 1  Supplementary Number 2  \n",
       "0                  37                      41                      28  \n",
       "1                  44                      36                      24  \n",
       "2                  14                      10                      17  \n",
       "3                  13                      10                      30  \n",
       "4                  10                      30                      40  \n",
       "..                ...                     ...                     ...  \n",
       "754                 2                       9                      30  \n",
       "755                 5                      28                      20  \n",
       "756                 6                      17                      31  \n",
       "757                 7                      14                      38  \n",
       "758                27                       7                      14  \n",
       "\n",
       "[759 rows x 12 columns]"
      ],
      "text/html": "<div>\n<style scoped>\n    .dataframe tbody tr th:only-of-type {\n        vertical-align: middle;\n    }\n\n    .dataframe tbody tr th {\n        vertical-align: top;\n    }\n\n    .dataframe thead th {\n        text-align: right;\n    }\n</style>\n<table border=\"1\" class=\"dataframe\">\n  <thead>\n    <tr style=\"text-align: right;\">\n      <th></th>\n      <th>Draw number</th>\n      <th>Draw year</th>\n      <th>Draw month</th>\n      <th>Draw day</th>\n      <th>Winning Number 1</th>\n      <th>Winning Number 2</th>\n      <th>Winning Number 3</th>\n      <th>Winning Number 4</th>\n      <th>Winning Number 5</th>\n      <th>Winning Number 6</th>\n      <th>Supplementary Number 1</th>\n      <th>Supplementary Number 2</th>\n    </tr>\n  </thead>\n  <tbody>\n    <tr>\n      <th>0</th>\n      <td>4024</td>\n      <td>2020</td>\n      <td>11</td>\n      <td>9</td>\n      <td>20</td>\n      <td>4</td>\n      <td>7</td>\n      <td>45</td>\n      <td>11</td>\n      <td>37</td>\n      <td>41</td>\n      <td>28</td>\n    </tr>\n    <tr>\n      <th>1</th>\n      <td>4022</td>\n      <td>2020</td>\n      <td>11</td>\n      <td>2</td>\n      <td>45</td>\n      <td>42</td>\n      <td>21</td>\n      <td>40</td>\n      <td>32</td>\n      <td>44</td>\n      <td>36</td>\n      <td>24</td>\n    </tr>\n    <tr>\n      <th>2</th>\n      <td>4020</td>\n      <td>2020</td>\n      <td>10</td>\n      <td>26</td>\n      <td>6</td>\n      <td>29</td>\n      <td>24</td>\n      <td>2</td>\n      <td>43</td>\n      <td>14</td>\n      <td>10</td>\n      <td>17</td>\n    </tr>\n    <tr>\n      <th>3</th>\n      <td>4018</td>\n      <td>2020</td>\n      <td>10</td>\n      <td>19</td>\n      <td>39</td>\n      <td>25</td>\n      <td>45</td>\n      <td>16</td>\n      <td>1</td>\n      <td>13</td>\n      <td>10</td>\n      <td>30</td>\n    </tr>\n    <tr>\n      <th>4</th>\n      <td>4016</td>\n      <td>2020</td>\n      <td>10</td>\n      <td>12</td>\n      <td>33</td>\n      <td>9</td>\n      <td>5</td>\n      <td>2</td>\n      <td>28</td>\n      <td>10</td>\n      <td>30</td>\n      <td>40</td>\n    </tr>\n    <tr>\n      <th>...</th>\n      <td>...</td>\n      <td>...</td>\n      <td>...</td>\n      <td>...</td>\n      <td>...</td>\n      <td>...</td>\n      <td>...</td>\n      <td>...</td>\n      <td>...</td>\n      <td>...</td>\n      <td>...</td>\n      <td>...</td>\n    </tr>\n    <tr>\n      <th>754</th>\n      <td>2516</td>\n      <td>2006</td>\n      <td>5</td>\n      <td>29</td>\n      <td>36</td>\n      <td>39</td>\n      <td>35</td>\n      <td>45</td>\n      <td>5</td>\n      <td>2</td>\n      <td>9</td>\n      <td>30</td>\n    </tr>\n    <tr>\n      <th>755</th>\n      <td>2514</td>\n      <td>2006</td>\n      <td>5</td>\n      <td>22</td>\n      <td>17</td>\n      <td>36</td>\n      <td>14</td>\n      <td>34</td>\n      <td>3</td>\n      <td>5</td>\n      <td>28</td>\n      <td>20</td>\n    </tr>\n    <tr>\n      <th>756</th>\n      <td>2512</td>\n      <td>2006</td>\n      <td>5</td>\n      <td>15</td>\n      <td>1</td>\n      <td>8</td>\n      <td>32</td>\n      <td>24</td>\n      <td>22</td>\n      <td>6</td>\n      <td>17</td>\n      <td>31</td>\n    </tr>\n    <tr>\n      <th>757</th>\n      <td>2510</td>\n      <td>2006</td>\n      <td>5</td>\n      <td>8</td>\n      <td>30</td>\n      <td>26</td>\n      <td>17</td>\n      <td>36</td>\n      <td>27</td>\n      <td>7</td>\n      <td>14</td>\n      <td>38</td>\n    </tr>\n    <tr>\n      <th>758</th>\n      <td>2508</td>\n      <td>2006</td>\n      <td>5</td>\n      <td>1</td>\n      <td>31</td>\n      <td>40</td>\n      <td>35</td>\n      <td>11</td>\n      <td>33</td>\n      <td>27</td>\n      <td>7</td>\n      <td>14</td>\n    </tr>\n  </tbody>\n</table>\n<p>759 rows × 12 columns</p>\n</div>"
     },
     "metadata": {},
     "execution_count": 6
    }
   ],
   "source": [
    "x = x[['Draw number', 'Draw year', 'Draw month', 'Draw day', 'Winning Number 1', 'Winning Number 2', 'Winning Number 3', 'Winning Number 4', 'Winning Number 5', 'Winning Number 6', 'Supplementary Number 1', 'Supplementary Number 2']]\n",
    "x"
   ]
  },
  {
   "cell_type": "code",
   "execution_count": 7,
   "metadata": {},
   "outputs": [
    {
     "output_type": "execute_result",
     "data": {
      "text/plain": [
       "     Winning Number 1  Winning Number 2  Winning Number 3  Winning Number 4  \\\n",
       "0                  45                42                21                40   \n",
       "1                   6                29                24                 2   \n",
       "2                  39                25                45                16   \n",
       "3                  33                 9                 5                 2   \n",
       "4                  37                 7                39                 5   \n",
       "..                ...               ...               ...               ...   \n",
       "753                36                39                35                45   \n",
       "754                17                36                14                34   \n",
       "755                 1                 8                32                24   \n",
       "756                30                26                17                36   \n",
       "757                31                40                35                11   \n",
       "\n",
       "     Winning Number 5  Winning Number 6  Supplementary Number 1  \\\n",
       "0                  32                44                      36   \n",
       "1                  43                14                      10   \n",
       "2                   1                13                      10   \n",
       "3                  28                10                      30   \n",
       "4                  28                22                      24   \n",
       "..                ...               ...                     ...   \n",
       "753                 5                 2                       9   \n",
       "754                 3                 5                      28   \n",
       "755                22                 6                      17   \n",
       "756                27                 7                      14   \n",
       "757                33                27                       7   \n",
       "\n",
       "     Supplementary Number 2  \n",
       "0                        24  \n",
       "1                        17  \n",
       "2                        30  \n",
       "3                        40  \n",
       "4                        14  \n",
       "..                      ...  \n",
       "753                      30  \n",
       "754                      20  \n",
       "755                      31  \n",
       "756                      38  \n",
       "757                      14  \n",
       "\n",
       "[758 rows x 8 columns]"
      ],
      "text/html": "<div>\n<style scoped>\n    .dataframe tbody tr th:only-of-type {\n        vertical-align: middle;\n    }\n\n    .dataframe tbody tr th {\n        vertical-align: top;\n    }\n\n    .dataframe thead th {\n        text-align: right;\n    }\n</style>\n<table border=\"1\" class=\"dataframe\">\n  <thead>\n    <tr style=\"text-align: right;\">\n      <th></th>\n      <th>Winning Number 1</th>\n      <th>Winning Number 2</th>\n      <th>Winning Number 3</th>\n      <th>Winning Number 4</th>\n      <th>Winning Number 5</th>\n      <th>Winning Number 6</th>\n      <th>Supplementary Number 1</th>\n      <th>Supplementary Number 2</th>\n    </tr>\n  </thead>\n  <tbody>\n    <tr>\n      <th>0</th>\n      <td>45</td>\n      <td>42</td>\n      <td>21</td>\n      <td>40</td>\n      <td>32</td>\n      <td>44</td>\n      <td>36</td>\n      <td>24</td>\n    </tr>\n    <tr>\n      <th>1</th>\n      <td>6</td>\n      <td>29</td>\n      <td>24</td>\n      <td>2</td>\n      <td>43</td>\n      <td>14</td>\n      <td>10</td>\n      <td>17</td>\n    </tr>\n    <tr>\n      <th>2</th>\n      <td>39</td>\n      <td>25</td>\n      <td>45</td>\n      <td>16</td>\n      <td>1</td>\n      <td>13</td>\n      <td>10</td>\n      <td>30</td>\n    </tr>\n    <tr>\n      <th>3</th>\n      <td>33</td>\n      <td>9</td>\n      <td>5</td>\n      <td>2</td>\n      <td>28</td>\n      <td>10</td>\n      <td>30</td>\n      <td>40</td>\n    </tr>\n    <tr>\n      <th>4</th>\n      <td>37</td>\n      <td>7</td>\n      <td>39</td>\n      <td>5</td>\n      <td>28</td>\n      <td>22</td>\n      <td>24</td>\n      <td>14</td>\n    </tr>\n    <tr>\n      <th>...</th>\n      <td>...</td>\n      <td>...</td>\n      <td>...</td>\n      <td>...</td>\n      <td>...</td>\n      <td>...</td>\n      <td>...</td>\n      <td>...</td>\n    </tr>\n    <tr>\n      <th>753</th>\n      <td>36</td>\n      <td>39</td>\n      <td>35</td>\n      <td>45</td>\n      <td>5</td>\n      <td>2</td>\n      <td>9</td>\n      <td>30</td>\n    </tr>\n    <tr>\n      <th>754</th>\n      <td>17</td>\n      <td>36</td>\n      <td>14</td>\n      <td>34</td>\n      <td>3</td>\n      <td>5</td>\n      <td>28</td>\n      <td>20</td>\n    </tr>\n    <tr>\n      <th>755</th>\n      <td>1</td>\n      <td>8</td>\n      <td>32</td>\n      <td>24</td>\n      <td>22</td>\n      <td>6</td>\n      <td>17</td>\n      <td>31</td>\n    </tr>\n    <tr>\n      <th>756</th>\n      <td>30</td>\n      <td>26</td>\n      <td>17</td>\n      <td>36</td>\n      <td>27</td>\n      <td>7</td>\n      <td>14</td>\n      <td>38</td>\n    </tr>\n    <tr>\n      <th>757</th>\n      <td>31</td>\n      <td>40</td>\n      <td>35</td>\n      <td>11</td>\n      <td>33</td>\n      <td>27</td>\n      <td>7</td>\n      <td>14</td>\n    </tr>\n  </tbody>\n</table>\n<p>758 rows × 8 columns</p>\n</div>"
     },
     "metadata": {},
     "execution_count": 7
    }
   ],
   "source": [
    "y = x.iloc[1:,4:]\n",
    "y = y.reset_index(drop=True)\n",
    "y"
   ]
  },
  {
   "cell_type": "code",
   "execution_count": 8,
   "metadata": {},
   "outputs": [],
   "source": [
    "from keras.layers import Input, Dense\n",
    "from keras.models import Model"
   ]
  },
  {
   "cell_type": "code",
   "execution_count": 9,
   "metadata": {},
   "outputs": [],
   "source": [
    "x_train = x.iloc[0:700, 0:5]\n",
    "y_train = y.iloc[0:700, 0:1]\n",
    "\n",
    "x_test = x.iloc[700:len(x)-1, 0:5]\n",
    "y_test = y.iloc[700:, 0:1]"
   ]
  },
  {
   "cell_type": "code",
   "execution_count": 10,
   "metadata": {},
   "outputs": [
    {
     "output_type": "stream",
     "name": "stdout",
     "text": [
      "Model: \"functional_1\"\n_________________________________________________________________\nLayer (type)                 Output Shape              Param #   \n=================================================================\ninput_1 (InputLayer)         [(None, 5)]               0         \n_________________________________________________________________\ndense (Dense)                (None, 1)                 6         \n=================================================================\nTotal params: 6\nTrainable params: 6\nNon-trainable params: 0\n_________________________________________________________________\n"
     ]
    }
   ],
   "source": [
    "input_tensor = Input(shape=(5,))\n",
    "dense_tensor = Dense(1)(input_tensor)\n",
    "\n",
    "model = Model(inputs=input_tensor, outputs=dense_tensor)\n",
    "model.summary()"
   ]
  },
  {
   "cell_type": "code",
   "execution_count": 11,
   "metadata": {},
   "outputs": [
    {
     "output_type": "stream",
     "name": "stdout",
     "text": [
      "Epoch 1/5\n",
      "22/22 [==============================] - 0s 9ms/step - loss: 4492.7422 - accuracy: 0.0000e+00 - val_loss: 2753.3218 - val_accuracy: 0.0000e+00\n",
      "Epoch 2/5\n",
      "22/22 [==============================] - 0s 2ms/step - loss: 4374.2358 - accuracy: 0.0000e+00 - val_loss: 2651.7666 - val_accuracy: 0.0000e+00\n",
      "Epoch 3/5\n",
      "22/22 [==============================] - 0s 2ms/step - loss: 4255.7896 - accuracy: 0.0000e+00 - val_loss: 2550.1387 - val_accuracy: 0.0000e+00\n",
      "Epoch 4/5\n",
      "22/22 [==============================] - 0s 2ms/step - loss: 4137.3789 - accuracy: 0.0000e+00 - val_loss: 2448.4487 - val_accuracy: 0.0000e+00\n",
      "Epoch 5/5\n",
      "22/22 [==============================] - 0s 2ms/step - loss: 4018.8845 - accuracy: 0.0000e+00 - val_loss: 2346.8308 - val_accuracy: 0.0000e+00\n"
     ]
    },
    {
     "output_type": "execute_result",
     "data": {
      "text/plain": [
       "<tensorflow.python.keras.callbacks.History at 0x1c021e44c50>"
      ]
     },
     "metadata": {},
     "execution_count": 11
    }
   ],
   "source": [
    "model.compile(optimizer='adam', loss='mae', metrics=['accuracy'])\n",
    "model.fit(x_train, x_train, batch_size = 32, epochs = 5, validation_data = (x_test, y_test))"
   ]
  },
  {
   "cell_type": "code",
   "execution_count": 12,
   "metadata": {},
   "outputs": [
    {
     "output_type": "stream",
     "name": "stdout",
     "text": [
      "Model: \"sequential\"\n_________________________________________________________________\nLayer (type)                 Output Shape              Param #   \n=================================================================\ndense_1 (Dense)              (None, 100)               600       \n_________________________________________________________________\ndense_2 (Dense)              (None, 100)               10100     \n_________________________________________________________________\ndense_3 (Dense)              (None, 100)               10100     \n_________________________________________________________________\ndense_4 (Dense)              (None, 1)                 101       \n=================================================================\nTotal params: 20,901\nTrainable params: 20,901\nNon-trainable params: 0\n_________________________________________________________________\n"
     ]
    }
   ],
   "source": [
    "from keras.models import Sequential\n",
    "model_seq = Sequential()\n",
    "model_seq.add(Dense(units=100, activation='relu', input_dim=5))\n",
    "model_seq.add(Dense(units=100, activation='relu'))\n",
    "model_seq.add(Dense(units=100, activation='relu'))\n",
    "model_seq.add(Dense(units=1, activation='softmax'))\n",
    "model_seq.summary()"
   ]
  },
  {
   "cell_type": "code",
   "execution_count": 13,
   "metadata": {},
   "outputs": [
    {
     "output_type": "stream",
     "name": "stdout",
     "text": [
      "Epoch 1/10\n",
      "22/22 [==============================] - 0s 9ms/step - loss: 21.1714 - accuracy: 0.0271 - val_loss: 22.1034 - val_accuracy: 0.0690\n",
      "Epoch 2/10\n",
      "22/22 [==============================] - 0s 2ms/step - loss: 21.1714 - accuracy: 0.0271 - val_loss: 22.1034 - val_accuracy: 0.0690\n",
      "Epoch 3/10\n",
      "22/22 [==============================] - 0s 3ms/step - loss: 21.1714 - accuracy: 0.0271 - val_loss: 22.1034 - val_accuracy: 0.0690\n",
      "Epoch 4/10\n",
      "22/22 [==============================] - 0s 3ms/step - loss: 21.1714 - accuracy: 0.0271 - val_loss: 22.1034 - val_accuracy: 0.0690\n",
      "Epoch 5/10\n",
      "22/22 [==============================] - 0s 3ms/step - loss: 21.1714 - accuracy: 0.0271 - val_loss: 22.1034 - val_accuracy: 0.0690\n",
      "Epoch 6/10\n",
      "22/22 [==============================] - 0s 3ms/step - loss: 21.1714 - accuracy: 0.0271 - val_loss: 22.1034 - val_accuracy: 0.0690\n",
      "Epoch 7/10\n",
      "22/22 [==============================] - 0s 2ms/step - loss: 21.1714 - accuracy: 0.0271 - val_loss: 22.1034 - val_accuracy: 0.0690\n",
      "Epoch 8/10\n",
      "22/22 [==============================] - 0s 2ms/step - loss: 21.1714 - accuracy: 0.0271 - val_loss: 22.1034 - val_accuracy: 0.0690\n",
      "Epoch 9/10\n",
      "22/22 [==============================] - 0s 2ms/step - loss: 21.1714 - accuracy: 0.0271 - val_loss: 22.1034 - val_accuracy: 0.0690\n",
      "Epoch 10/10\n",
      "22/22 [==============================] - 0s 2ms/step - loss: 21.1714 - accuracy: 0.0271 - val_loss: 22.1034 - val_accuracy: 0.0690\n"
     ]
    },
    {
     "output_type": "execute_result",
     "data": {
      "text/plain": [
       "<tensorflow.python.keras.callbacks.History at 0x1c029880278>"
      ]
     },
     "metadata": {},
     "execution_count": 13
    }
   ],
   "source": [
    "model_seq.compile(optimizer='adam', loss='mae', metrics=['accuracy'])\n",
    "\n",
    "model_seq.fit(x_train, y_train, epochs=10, validation_data = (x_test, y_test))"
   ]
  },
  {
   "cell_type": "code",
   "execution_count": null,
   "metadata": {},
   "outputs": [],
   "source": []
  }
 ]
}